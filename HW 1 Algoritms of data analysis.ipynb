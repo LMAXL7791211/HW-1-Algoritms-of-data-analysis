{
 "cells": [
  {
   "cell_type": "markdown",
   "metadata": {},
   "source": [
    "## Урок 1. Алгоритм линейной регрессии. Градиентный спуск"
   ]
  },
  {
   "cell_type": "code",
   "execution_count": 3,
   "metadata": {
    "colab": {},
    "colab_type": "code",
    "id": "ak8b3KV45kVW"
   },
   "outputs": [],
   "source": [
    "import numpy as np\n",
    "import matplotlib.pyplot as plt"
   ]
  },
  {
   "cell_type": "markdown",
   "metadata": {},
   "source": [
    "__Задача:__ предсказание баллов ЕГЭ ученика в зависимости от кол-ва лет стажа его репетитора"
   ]
  },
  {
   "cell_type": "code",
   "execution_count": 4,
   "metadata": {
    "colab": {},
    "colab_type": "code",
    "id": "i77tZbAd5plB"
   },
   "outputs": [
    {
     "data": {
      "text/plain": [
       "array([[ 1,  1,  1,  1,  1,  1,  1,  1,  1,  1],\n",
       "       [ 1,  1,  2,  5,  3,  0,  5, 10,  1,  2]])"
      ]
     },
     "execution_count": 4,
     "metadata": {},
     "output_type": "execute_result"
    }
   ],
   "source": [
    "X = np.array([[1, 1, 1, 1, 1, 1, 1, 1, 1, 1],\n",
    "              [1, 1, 2, 5, 3, 0, 5, 10, 1, 2]])\n",
    "X"
   ]
  },
  {
   "cell_type": "code",
   "execution_count": 3,
   "metadata": {
    "colab": {
     "base_uri": "https://localhost:8080/",
     "height": 34
    },
    "colab_type": "code",
    "id": "ejifaMBe6VaP",
    "outputId": "190a541b-5c6d-48f6-8982-b513de5d7606"
   },
   "outputs": [
    {
     "data": {
      "text/plain": [
       "(2, 10)"
      ]
     },
     "execution_count": 3,
     "metadata": {},
     "output_type": "execute_result"
    }
   ],
   "source": [
    "X.shape"
   ]
  },
  {
   "cell_type": "code",
   "execution_count": 8,
   "metadata": {
    "colab": {},
    "colab_type": "code",
    "id": "VsNrKi1Q6Wmh"
   },
   "outputs": [],
   "source": [
    "y = [45, 55, 50, 55, 60, 35, 75, 80, 50, 60]"
   ]
  },
  {
   "cell_type": "markdown",
   "metadata": {},
   "source": [
    "Уравнение прямой: $y = a*x + b$"
   ]
  },
  {
   "cell_type": "code",
   "execution_count": 5,
   "metadata": {
    "colab": {},
    "colab_type": "code",
    "collapsed": true,
    "id": "NntLxvtU7CbH"
   },
   "outputs": [],
   "source": [
    "y_pred1 = 35 * np.ones(10) + X[1]*5\n",
    "y_pred2 = 40 * np.ones(10) + X[1]*7.5"
   ]
  },
  {
   "cell_type": "code",
   "execution_count": 6,
   "metadata": {
    "colab": {
     "base_uri": "https://localhost:8080/",
     "height": 282
    },
    "colab_type": "code",
    "id": "OTikrodr6n-i",
    "outputId": "9c347927-ae0d-40ba-bcd7-fdd9de2688bf"
   },
   "outputs": [
    {
     "data": {
      "image/png": "[encoded data removed]",
      "text/plain": [
       "<matplotlib.figure.Figure at 0x11907d5f8>"
      ]
     },
     "metadata": {},
     "output_type": "display_data"
    }
   ],
   "source": [
    "plt.scatter(X[1], y)\n",
    "plt.plot(X[1], y_pred1, label='1')\n",
    "plt.plot(X[1], y_pred2, label='2')\n",
    "plt.legend()\n",
    "plt.show()"
   ]
  },
  {
   "cell_type": "markdown",
   "metadata": {},
   "source": [
    "Простая ошибка"
   ]
  },
  {
   "cell_type": "code",
   "execution_count": 7,
   "metadata": {
    "colab": {},
    "colab_type": "code",
    "id": "zbsqjAxH9WqI"
   },
   "outputs": [
    {
     "data": {
      "text/plain": [
       "(65.0, -60.0)"
      ]
     },
     "execution_count": 7,
     "metadata": {},
     "output_type": "execute_result"
    }
   ],
   "source": [
    "err1 = np.sum(y - y_pred1)\n",
    "err2 = np.sum(y - y_pred2)\n",
    "err1, err2"
   ]
  },
  {
   "cell_type": "markdown",
   "metadata": {},
   "source": [
    "MAE (Mean Absolute Error)"
   ]
  },
  {
   "cell_type": "code",
   "execution_count": 8,
   "metadata": {
    "colab": {},
    "colab_type": "code",
    "id": "vUqCthPf9eYI"
   },
   "outputs": [
    {
     "data": {
      "text/plain": [
       "(8.5, 9.0)"
      ]
     },
     "execution_count": 8,
     "metadata": {},
     "output_type": "execute_result"
    }
   ],
   "source": [
    "mae_1 = np.sum(np.abs(y - y_pred1)) / 10\n",
    "mae_2 = np.sum(np.abs(y - y_pred2)) / 10\n",
    "mae_1, mae_2"
   ]
  },
  {
   "cell_type": "markdown",
   "metadata": {},
   "source": [
    "MSE (Mean Squared Error)"
   ]
  },
  {
   "cell_type": "code",
   "execution_count": 9,
   "metadata": {
    "colab": {},
    "colab_type": "code",
    "id": "XTn2bZIg_EBS"
   },
   "outputs": [
    {
     "data": {
      "text/plain": [
       "(97.5, 188.75)"
      ]
     },
     "execution_count": 9,
     "metadata": {},
     "output_type": "execute_result"
    }
   ],
   "source": [
    "mse_1 = np.mean((y - y_pred1)**2)\n",
    "mse_2 = np.mean((y - y_pred2)**2)\n",
    "mse_1, mse_2"
   ]
  },
  {
   "cell_type": "markdown",
   "metadata": {
    "colab_type": "text",
    "id": "R4zHyZ2Da5HV"
   },
   "source": [
    "Метод наименьших квадратов (МНК)"
   ]
  },
  {
   "cell_type": "code",
   "execution_count": 10,
   "metadata": {
    "colab": {
     "base_uri": "https://localhost:8080/",
     "height": 34
    },
    "colab_type": "code",
    "id": "GEeiext0BR1m",
    "outputId": "2a5e98e6-e201-4cf9-c113-bb207490b31e"
   },
   "outputs": [
    {
     "data": {
      "text/plain": [
       "(2, 10)"
      ]
     },
     "execution_count": 10,
     "metadata": {},
     "output_type": "execute_result"
    }
   ],
   "source": [
    "X.shape"
   ]
  },
  {
   "cell_type": "code",
   "execution_count": 11,
   "metadata": {
    "colab": {
     "base_uri": "https://localhost:8080/",
     "height": 34
    },
    "colab_type": "code",
    "id": "j1BN1FZHBVo8",
    "outputId": "d5820bdf-e0a3-4de0-96ef-b73e9b43fd64"
   },
   "outputs": [
    {
     "data": {
      "text/plain": [
       "(10, 2)"
      ]
     },
     "execution_count": 11,
     "metadata": {},
     "output_type": "execute_result"
    }
   ],
   "source": [
    "X.T.shape"
   ]
  },
  {
   "cell_type": "code",
   "execution_count": 14,
   "metadata": {},
   "outputs": [
    {
     "data": {
      "text/plain": [
       "True"
      ]
     },
     "execution_count": 14,
     "metadata": {},
     "output_type": "execute_result"
    }
   ],
   "source": [
    "all(X @ y == np.dot(X,y))"
   ]
  },
  {
   "cell_type": "code",
   "execution_count": 15,
   "metadata": {
    "colab": {
     "base_uri": "https://localhost:8080/",
     "height": 34
    },
    "colab_type": "code",
    "id": "mnyZzkaDBegD",
    "outputId": "368800a6-deef-46d0-b27f-d6eb5e46a743"
   },
   "outputs": [
    {
     "data": {
      "text/plain": [
       "array([45.0625,  3.8125])"
      ]
     },
     "execution_count": 15,
     "metadata": {},
     "output_type": "execute_result"
    }
   ],
   "source": [
    "W = np.linalg.inv(np.dot(X, X.T)) @ X @ y\n",
    "W"
   ]
  },
  {
   "cell_type": "code",
   "execution_count": 35,
   "metadata": {
    "collapsed": true
   },
   "outputs": [],
   "source": [
    "y_pred3 = W[0] * X[0] + W[1] * X[1]"
   ]
  },
  {
   "cell_type": "code",
   "execution_count": 36,
   "metadata": {
    "colab": {
     "base_uri": "https://localhost:8080/",
     "height": 282
    },
    "colab_type": "code",
    "id": "Lyg-J3H7Bnv5",
    "outputId": "7701dd28-d123-4773-cd1f-1439abfb6d90"
   },
   "outputs": [
    {
     "data": {
      "image/png": "[encoded data removed]",
      "text/plain": [
       "<matplotlib.figure.Figure at 0x1194914e0>"
      ]
     },
     "metadata": {},
     "output_type": "display_data"
    }
   ],
   "source": [
    "plt.scatter(X[1], y)\n",
    "plt.plot(X[1], y_pred1, label='1 - manual')\n",
    "plt.plot(X[1], y_pred2, label='2 - manual')\n",
    "plt.plot(X[1], y_pred3, label='3 - analytical solution')\n",
    "plt.legend()\n",
    "plt.show()"
   ]
  },
  {
   "cell_type": "code",
   "execution_count": 6,
   "metadata": {
    "colab": {},
    "colab_type": "code",
    "id": "JTSC2cFnCd8T"
   },
   "outputs": [],
   "source": [
    "def calc_mae(y, y_pred):\n",
    "    err = np.mean(np.abs(y - y_pred))\n",
    "    return err\n",
    "\n",
    "def calc_mse(y, y_pred):\n",
    "    err = np.mean((y - y_pred)**2) # <=> 1/n * np.sum((y_pred - y)**2)\n",
    "    return err"
   ]
  },
  {
   "cell_type": "code",
   "execution_count": 20,
   "metadata": {
    "colab": {
     "base_uri": "https://localhost:8080/",
     "height": 34
    },
    "colab_type": "code",
    "id": "MYSrwISJDGfS",
    "outputId": "891bfd3a-142c-466c-a9d9-7ebfb303e86c"
   },
   "outputs": [
    {
     "data": {
      "text/plain": [
       "(8.5, 97.5)"
      ]
     },
     "execution_count": 20,
     "metadata": {},
     "output_type": "execute_result"
    }
   ],
   "source": [
    "calc_mae(y, y_pred1), calc_mse(y, y_pred1)"
   ]
  },
  {
   "cell_type": "code",
   "execution_count": 21,
   "metadata": {
    "colab": {
     "base_uri": "https://localhost:8080/",
     "height": 34
    },
    "colab_type": "code",
    "id": "MYSrwISJDGfS",
    "outputId": "891bfd3a-142c-466c-a9d9-7ebfb303e86c"
   },
   "outputs": [
    {
     "data": {
      "text/plain": [
       "(9.0, 188.75)"
      ]
     },
     "execution_count": 21,
     "metadata": {},
     "output_type": "execute_result"
    }
   ],
   "source": [
    "calc_mae(y, y_pred2), calc_mse(y, y_pred2)"
   ]
  },
  {
   "cell_type": "code",
   "execution_count": 22,
   "metadata": {
    "colab": {
     "base_uri": "https://localhost:8080/",
     "height": 34
    },
    "colab_type": "code",
    "id": "_WtO6lvhDmQ6",
    "outputId": "8de8b895-85d8-448e-f565-b70e93a5dd25"
   },
   "outputs": [
    {
     "data": {
      "text/plain": [
       "(5.7875, 43.96875)"
      ]
     },
     "execution_count": 22,
     "metadata": {},
     "output_type": "execute_result"
    }
   ],
   "source": [
    "calc_mae(y, y_pred3), calc_mse(y, y_pred3)"
   ]
  },
  {
   "cell_type": "markdown",
   "metadata": {
    "colab_type": "text",
    "id": "JAOgIXLRa--g"
   },
   "source": [
    "Градиентный спуск"
   ]
  },
  {
   "cell_type": "code",
   "execution_count": 24,
   "metadata": {
    "colab": {},
    "colab_type": "code",
    "id": "DNebwUP7Fd8F"
   },
   "outputs": [],
   "source": [
    "n = 10\n",
    "Q = 1/n * np.sum((y_pred3 - y)**2) # функционал ошибки, y = X*w"
   ]
  },
  {
   "cell_type": "code",
   "execution_count": 25,
   "metadata": {
    "colab": {},
    "colab_type": "code",
    "id": "5DKkvmkwHdOx"
   },
   "outputs": [],
   "source": [
    "alpha = 1e-2 # величина шага\n",
    "g = alpha * (1/n * 2 * np.sum(X[0] * (W[0] * X[0] - y)))"
   ]
  },
  {
   "cell_type": "code",
   "execution_count": 26,
   "metadata": {
    "colab": {
     "base_uri": "https://localhost:8080/",
     "height": 34
    },
    "colab_type": "code",
    "id": "ZVRCF5P2MYI6",
    "outputId": "0b0e2f05-a23c-4bf8-f37d-b4240d2e0af0"
   },
   "outputs": [
    {
     "data": {
      "text/plain": [
       "(45.0625, 45.29125)"
      ]
     },
     "execution_count": 26,
     "metadata": {},
     "output_type": "execute_result"
    }
   ],
   "source": [
    "W[0], W[0] - g"
   ]
  },
  {
   "cell_type": "markdown",
   "metadata": {},
   "source": [
    "### Д/З"
   ]
  },
  {
   "cell_type": "markdown",
   "metadata": {
    "colab_type": "text",
    "id": "huXrhXQsZTMt"
   },
   "source": [
    "1. Подберите скорость обучения (alpha) и количество итераций\n",
    "\n",
    "\n",
    "*3: вместо того, чтобы задавать количество итераций, задайте условие остановки алгоритма - когда ошибка за итерацию начинает изменяться ниже определенного порога (упрощенный аналог параметра tol в линейной регрессии в sklearn)."
   ]
  },
  {
   "cell_type": "code",
   "execution_count": 24,
   "metadata": {
    "colab": {
     "base_uri": "https://localhost:8080/",
     "height": 185
    },
    "colab_type": "code",
    "id": "IDB22MQKMYaJ",
    "outputId": "4c03219e-a57c-4583-f439-6699fd0619bb"
   },
   "outputs": [
    {
     "name": "stdout",
     "output_type": "stream",
     "text": [
      "- - - - - - - - - - \n",
      "Number of objects = 10            \n",
      "Learning rate = 0.001            \n",
      "Initial weights = [1.  0.5] \n",
      "\n",
      "Iteration #0: W_new = [1.  0.5], MSE = 3047.75\n",
      "Iteration #50: W_new = [4.52813991 9.26798796], MSE = 866.15\n",
      "Iteration #100: W_new = [ 6.59783995 10.46982437], MSE = 740.51\n",
      "Iteration #150: W_new = [ 8.35712041 10.41520311], MSE = 678.25\n",
      "Iteration #200: W_new = [10.00137862 10.16136654], MSE = 622.9\n",
      "Iteration #250: W_new = [11.56618027  9.88504454], MSE = 572.41\n",
      "Iteration #300: W_new = [13.06017121  9.61537801], MSE = 526.33\n",
      "Iteration #350: W_new = [14.48736464  9.35678732], MSE = 484.27\n",
      "Iteration #400: W_new = [15.85088284  9.10956933], MSE = 445.87\n",
      "Iteration #450: W_new = [17.15358947  8.87334944], MSE = 410.83\n",
      "Iteration #500: W_new = [18.39820047  8.6476594 ], MSE = 378.84\n",
      "Iteration #550: W_new = [19.58730734  8.43203337], MSE = 349.63\n",
      "Iteration #600: W_new = [20.72338541  8.22602316], MSE = 322.98\n",
      "Iteration #650: W_new = [21.80879954  8.02920005], MSE = 298.65\n",
      "Iteration #700: W_new = [22.84580913  7.84115435], MSE = 276.44\n",
      "Iteration #750: W_new = [23.83657279  7.66149463], MSE = 256.17\n",
      "Iteration #800: W_new = [24.78315288  7.48984693], MSE = 237.66\n",
      "Iteration #850: W_new = [25.6875198   7.32585393], MSE = 220.77\n",
      "Iteration #900: W_new = [26.55155605  7.16917428], MSE = 205.36\n",
      "Iteration #950: W_new = [27.37706021  7.01948183], MSE = 191.28\n",
      "Iteration #1000: W_new = [28.16575062  6.87646498], MSE = 178.44\n",
      "Iteration #1050: W_new = [28.91926901  6.73982604], MSE = 166.71\n",
      "Iteration #1100: W_new = [29.63918391  6.60928057], MSE = 156.01\n",
      "Iteration #1150: W_new = [30.32699386  6.48455684], MSE = 146.24\n",
      "Iteration #1200: W_new = [30.98413061  6.36539523], MSE = 137.32\n",
      "Iteration #1250: W_new = [31.61196204  6.25154768], MSE = 129.18\n",
      "Iteration #1300: W_new = [32.21179503  6.14277721], MSE = 121.75\n",
      "Iteration #1350: W_new = [32.7848782   6.03885741], MSE = 114.97\n",
      "Iteration #1400: W_new = [33.33240445  5.93957197], MSE = 108.77\n",
      "Iteration #1450: W_new = [33.85551352  5.84471421], MSE = 103.12\n",
      "Iteration #1500: W_new = [34.35529429  5.75408667], MSE = 97.97\n",
      "Iteration #1550: W_new = [34.83278711  5.66750071], MSE = 93.26\n",
      "Iteration #1600: W_new = [35.28898591  5.58477609], MSE = 88.96\n",
      "Iteration #1650: W_new = [35.72484032  5.50574061], MSE = 85.04\n",
      "Iteration #1700: W_new = [36.1412576   5.43022976], MSE = 81.45\n",
      "Iteration #1750: W_new = [36.53910455  5.35808635], MSE = 78.19\n",
      "Iteration #1800: W_new = [36.91920933  5.28916021], MSE = 75.2\n",
      "Iteration #1850: W_new = [37.28236317  5.22330786], MSE = 72.48\n",
      "Iteration #1900: W_new = [37.62932199  5.16039223], MSE = 69.99\n",
      "Iteration #1950: W_new = [37.96080802  5.10028235], MSE = 67.72\n",
      "Iteration #2000: W_new = [38.27751127  5.04285309], MSE = 65.65\n",
      "Iteration #2050: W_new = [38.580091    4.98798492], MSE = 63.76\n",
      "Iteration #2100: W_new = [38.86917705  4.93556363], MSE = 62.03\n",
      "Iteration #2150: W_new = [39.14537116  4.88548008], MSE = 60.46\n",
      "Iteration #2200: W_new = [39.40924828  4.83763004], MSE = 59.02\n",
      "Iteration #2250: W_new = [39.66135766  4.79191389], MSE = 57.71\n",
      "Iteration #2300: W_new = [39.90222412  4.74823647], MSE = 56.51\n",
      "Iteration #2350: W_new = [40.13234902  4.70650687], MSE = 55.42\n",
      "Iteration #2400: W_new = [40.3522114   4.66663821], MSE = 54.42\n",
      "Iteration #2450: W_new = [40.56226891  4.62854752], MSE = 53.51\n",
      "Iteration #2500: W_new = [40.76295881  4.5921555 ], MSE = 52.68\n",
      "Iteration #2550: W_new = [40.95469885  4.5573864 ], MSE = 51.92\n",
      "Iteration #2600: W_new = [41.13788815  4.52416785], MSE = 51.22\n",
      "Iteration #2650: W_new = [41.31290804  4.49243069], MSE = 50.59\n",
      "Iteration #2700: W_new = [41.48012284  4.46210886], MSE = 50.01\n",
      "Iteration #2750: W_new = [41.63988061  4.43313926], MSE = 49.49\n",
      "Iteration #2800: W_new = [41.79251391  4.40546156], MSE = 49.0\n",
      "Iteration #2850: W_new = [41.93834046  4.37901816], MSE = 48.57\n",
      "Iteration #2900: W_new = [42.07766381  4.35375402], MSE = 48.16\n",
      "Iteration #2950: W_new = [42.21077397  4.32961655], MSE = 47.8\n",
      "Iteration #3000: W_new = [42.33794802  4.30655549], MSE = 47.46\n",
      "Iteration #3050: W_new = [42.45945068  4.28452286], MSE = 47.16\n",
      "Iteration #3100: W_new = [42.57553488  4.26347278], MSE = 46.88\n",
      "Iteration #3150: W_new = [42.68644224  4.24336144], MSE = 46.63\n",
      "Iteration #3200: W_new = [42.79240364  4.22414697], MSE = 46.4\n",
      "Iteration #3250: W_new = [42.89363965  4.20578939], MSE = 46.18\n",
      "Iteration #3300: W_new = [42.99036098  4.18825046], MSE = 45.99\n",
      "Iteration #3350: W_new = [43.08276899  4.1714937 ], MSE = 45.81\n",
      "Iteration #3400: W_new = [43.17105601  4.1554842 ], MSE = 45.65\n",
      "Iteration #3450: W_new = [43.25540583  4.14018866], MSE = 45.51\n",
      "Iteration #3500: W_new = [43.33599404  4.12557524], MSE = 45.37\n",
      "Iteration #3550: W_new = [43.41298838  4.1116135 ], MSE = 45.25\n",
      "Iteration #3600: W_new = [43.48654911  4.09827439], MSE = 45.14\n",
      "Iteration #3650: W_new = [43.55682938  4.08553015], MSE = 45.04\n",
      "Iteration #3700: W_new = [43.62397546  4.07335425], MSE = 44.94\n",
      "Iteration #3750: W_new = [43.68812713  4.06172133], MSE = 44.86\n",
      "Iteration #3800: W_new = [43.74941793  4.05060719], MSE = 44.78\n",
      "Iteration #3850: W_new = [43.80797543  4.03998869], MSE = 44.71\n",
      "Iteration #3900: W_new = [43.86392154  4.02984372], MSE = 44.65\n",
      "Iteration #3950: W_new = [43.9173727   4.02015118], MSE = 44.59\n",
      "Iteration #4000: W_new = [43.96844019  4.01089088], MSE = 44.53\n",
      "Iteration #4050: W_new = [44.01723029  4.00204355], MSE = 44.48\n",
      "Iteration #4100: W_new = [44.06384458  3.99359076], MSE = 44.44\n",
      "Iteration #4150: W_new = [44.10838008  3.98551494], MSE = 44.4\n",
      "Iteration #4200: W_new = [44.15092951  3.97779925], MSE = 44.36\n",
      "Iteration #4250: W_new = [44.19158142  3.97042766], MSE = 44.33\n",
      "Iteration #4300: W_new = [44.23042043  3.9633848 ], MSE = 44.29\n",
      "Iteration #4350: W_new = [44.26752741  3.95665602], MSE = 44.27\n",
      "Iteration #4400: W_new = [44.30297958  3.95022732], MSE = 44.24\n",
      "Iteration #4450: W_new = [44.33685075  3.9440853 ], MSE = 44.22\n",
      "Iteration #4500: W_new = [44.36921141  3.9382172 ], MSE = 44.2\n",
      "Iteration #4550: W_new = [44.40012894  3.93261078], MSE = 44.18\n",
      "Iteration #4600: W_new = [44.42966769  3.92725438], MSE = 44.16\n",
      "Iteration #4650: W_new = [44.45788914  3.92213686], MSE = 44.14\n",
      "Iteration #4700: W_new = [44.48485204  3.91724755], MSE = 44.13\n",
      "Iteration #4750: W_new = [44.51061252  3.91257629], MSE = 44.11\n",
      "Iteration #4800: W_new = [44.5352242   3.90811334], MSE = 44.1\n",
      "Iteration #4850: W_new = [44.55873831  3.90384942], MSE = 44.09\n",
      "Iteration #4900: W_new = [44.5812038   3.89977565], MSE = 44.08\n",
      "Iteration #4950: W_new = [44.60266742  3.89588355], MSE = 44.07\n",
      "Iteration #5000: W_new = [44.62317387  3.89216502], MSE = 44.06\n",
      "Iteration #5050: W_new = [44.64276582  3.88861232], MSE = 44.05\n",
      "Iteration #5100: W_new = [44.66148406  3.88521806], MSE = 44.04\n",
      "Iteration #5150: W_new = [44.67936756  3.88197516], MSE = 44.04\n",
      "Iteration #5200: W_new = [44.69645353  3.87887688], MSE = 44.03\n",
      "Iteration #5250: W_new = [44.71277754  3.87591678], MSE = 44.03\n",
      "Iteration #5300: W_new = [44.72837357  3.87308868], MSE = 44.02\n",
      "Iteration #5350: W_new = [44.7432741  3.8703867], MSE = 44.02\n",
      "Iteration #5400: W_new = [44.75751013  3.86780521], MSE = 44.01\n",
      "Iteration #5450: W_new = [44.77111129  3.86533885], MSE = 44.01\n",
      "Iteration #5500: W_new = [44.78410591  3.86298248], MSE = 44.01\n",
      "Iteration #5550: W_new = [44.79652102  3.86073119], MSE = 44.0\n",
      "Iteration #5600: W_new = [44.80838248  3.85858029], MSE = 44.0\n",
      "Iteration #5650: W_new = [44.81971497  3.85652532], MSE = 44.0\n",
      "Iteration #5700: W_new = [44.83054208  3.85456199], MSE = 43.99\n",
      "Iteration #5750: W_new = [44.84088635  3.85268622], MSE = 43.99\n",
      "Iteration #5800: W_new = [44.85076931  3.8508941 ], MSE = 43.99\n",
      "Iteration #5850: W_new = [44.86021154  3.84918189], MSE = 43.99\n",
      "Iteration #5900: W_new = [44.86923269  3.84754605], MSE = 43.99\n",
      "Iteration #5950: W_new = [44.87785153  3.84598315], MSE = 43.98\n",
      "Iteration #6000: W_new = [44.88608602  3.84448996], MSE = 43.98\n",
      "Iteration #6050: W_new = [44.89395328  3.84306335], MSE = 43.98\n",
      "Iteration #6100: W_new = [44.9014697   3.84170036], MSE = 43.98\n",
      "Iteration #6150: W_new = [44.90865092  3.84039816], MSE = 43.98\n",
      "Iteration #6200: W_new = [44.91551189  3.83915403], MSE = 43.98\n",
      "Iteration #6250: W_new = [44.9220669   3.83796538], MSE = 43.98\n",
      "Iteration #6300: W_new = [44.92832958  3.83682974], MSE = 43.98\n",
      "Iteration #6350: W_new = [44.93431297  3.83574474], MSE = 43.98\n",
      "Iteration #6400: W_new = [44.94002953  3.83470813], MSE = 43.98\n",
      "Iteration #6450: W_new = [44.94549116  3.83371775], MSE = 43.98\n",
      "Iteration #6500: W_new = [44.95070922  3.83277153], MSE = 43.97\n",
      "Alpha = 0.001, FINAL Iteration #6540: W_new = [44.95471562  3.83204504], MSE = 43.97\n",
      "- - - - - - - - - - \n",
      "Number of objects = 10            \n",
      "Learning rate = 0.005            \n",
      "Initial weights = [1.  0.5] \n",
      "\n",
      "Iteration #0: W_new = [1.  0.5], MSE = 3047.75\n",
      "Iteration #50: W_new = [11.58029249  9.88325047], MSE = 571.97\n",
      "Iteration #100: W_new = [18.42044991  8.64362496], MSE = 378.28\n",
      "Iteration #150: W_new = [23.86313447  7.65667808], MSE = 255.64\n",
      "Iteration #200: W_new = [28.19393706  6.87135381], MSE = 177.99\n",
      "Iteration #250: W_new = [31.64000321  6.24646284], MSE = 128.82\n",
      "Iteration #300: W_new = [34.38207507  5.74923039], MSE = 97.7\n",
      "Iteration #350: W_new = [36.56397112  5.35357718], MSE = 77.99\n",
      "Iteration #400: W_new = [38.30012925  5.03875167], MSE = 65.51\n",
      "Iteration #450: W_new = [39.68160893  4.78824163], MSE = 57.61\n",
      "Iteration #500: W_new = [40.78086716  4.5889081 ], MSE = 52.6\n",
      "Iteration #550: W_new = [41.65555874  4.43029627], MSE = 49.44\n",
      "Iteration #600: W_new = [42.35156023  4.30408713], MSE = 47.43\n",
      "Iteration #650: W_new = [42.9053761   4.20366116], MSE = 46.16\n",
      "Iteration #700: W_new = [43.34605333  4.12375114], MSE = 45.36\n",
      "Iteration #750: W_new = [43.69670494  4.06016588], MSE = 44.85\n",
      "Iteration #800: W_new = [43.9757222  4.0095704], MSE = 44.53\n",
      "Iteration #850: W_new = [44.19773922  3.96931103], MSE = 44.32\n",
      "Iteration #900: W_new = [44.37440056  3.93727622], MSE = 44.19\n",
      "Iteration #950: W_new = [44.51497188  3.91178578], MSE = 44.11\n",
      "Iteration #1000: W_new = [44.62682599  3.89150276], MSE = 44.06\n",
      "Iteration #1050: W_new = [44.71582951  3.87536335], MSE = 44.03\n"
     ]
    },
    {
     "name": "stdout",
     "output_type": "stream",
     "text": [
      "Iteration #1100: W_new = [44.78665057  3.86252104], MSE = 44.0\n",
      "Iteration #1150: W_new = [44.84300364  3.85230228], MSE = 43.99\n",
      "Iteration #1200: W_new = [44.88784439  3.8441711 ], MSE = 43.98\n",
      "Iteration #1250: W_new = [44.92352465  3.83770104], MSE = 43.98\n",
      "Iteration #1300: W_new = [44.95191582  3.83255274], MSE = 43.97\n",
      "Iteration #1350: W_new = [44.97450698  3.82845618], MSE = 43.97\n",
      "Iteration #1400: W_new = [44.99248301  3.8251965 ], MSE = 43.97\n",
      "Iteration #1450: W_new = [45.00678673  3.82260274], MSE = 43.97\n",
      "Iteration #1500: W_new = [45.01816835  3.82053886], MSE = 43.97\n",
      "Iteration #1550: W_new = [45.02722483  3.81889661], MSE = 43.97\n",
      "Iteration #1600: W_new = [45.03443117  3.81758985], MSE = 43.97\n",
      "Iteration #1650: W_new = [45.04016533  3.81655005], MSE = 43.97\n",
      "Alpha = 0.005, FINAL Iteration #1659: W_new = [45.04106539  3.81638684], MSE = 43.97\n",
      "- - - - - - - - - - \n",
      "Number of objects = 10            \n",
      "Learning rate = 0.01            \n",
      "Initial weights = [1.  0.5] \n",
      "\n",
      "Iteration #0: W_new = [1.  0.5], MSE = 3047.75\n",
      "Iteration #50: W_new = [18.44838865  8.63855875], MSE = 377.58\n",
      "Iteration #100: W_new = [28.22929764  6.86494171], MSE = 177.43\n",
      "Iteration #150: W_new = [34.41564059  5.7431438 ], MSE = 97.36\n",
      "Iteration #200: W_new = [38.32845066  5.03361602], MSE = 65.33\n",
      "Iteration #250: W_new = [40.80327023  4.58484565], MSE = 52.51\n",
      "Iteration #300: W_new = [42.36857287  4.30100215], MSE = 47.39\n",
      "Iteration #350: W_new = [43.35861367  4.12147351], MSE = 45.34\n",
      "Iteration #400: W_new = [43.98480618  4.00792316], MSE = 44.52\n",
      "Iteration #450: W_new = [44.38086769  3.93610351], MSE = 44.19\n",
      "Iteration #500: W_new = [44.63137328  3.89067818], MSE = 44.06\n",
      "Iteration #550: W_new = [44.78981596  3.86194705], MSE = 44.0\n",
      "Iteration #600: W_new = [44.89002963  3.84377484], MSE = 43.98\n",
      "Iteration #650: W_new = [44.95341394  3.83228108], MSE = 43.97\n",
      "Iteration #700: W_new = [44.99350398  3.82501136], MSE = 43.97\n",
      "Iteration #750: W_new = [45.0188606   3.82041333], MSE = 43.97\n",
      "Iteration #800: W_new = [45.03489844  3.81750512], MSE = 43.97\n",
      "Iteration #850: W_new = [45.04504225  3.81566569], MSE = 43.97\n",
      "Iteration #900: W_new = [45.05145812  3.81450228], MSE = 43.97\n",
      "Alpha = 0.01, FINAL Iteration #904: W_new = [45.05185544  3.81443023], MSE = 43.97\n",
      "- - - - - - - - - - \n",
      "Number of objects = 10            \n",
      "Learning rate = 0.02            \n",
      "Initial weights = [1.  0.5] \n",
      "\n",
      "Iteration #0: W_new = [1.  0.5], MSE = 3047.75\n",
      "Iteration #50: W_new = [28.30044782  6.85203972], MSE = 176.3\n",
      "Iteration #100: W_new = [38.385257    5.02331507], MSE = 64.97\n",
      "Iteration #150: W_new = [42.40258857  4.29483393], MSE = 47.3\n",
      "Iteration #200: W_new = [44.00291167  4.00464001], MSE = 44.5\n",
      "Iteration #250: W_new = [44.64040796  3.88903988], MSE = 44.05\n",
      "Iteration #300: W_new = [44.89435763  3.84299003], MSE = 43.98\n",
      "Iteration #350: W_new = [44.99551969  3.82464585], MSE = 43.97\n",
      "Iteration #400: W_new = [45.03581808  3.81733836], MSE = 43.97\n",
      "Iteration #450: W_new = [45.05187113  3.81442738], MSE = 43.97\n",
      "Alpha = 0.02, FINAL Iteration #488: W_new = [45.05721929  3.81345758], MSE = 43.97\n",
      "- - - - - - - - - - \n",
      "Number of objects = 10            \n",
      "Learning rate = 0.05            \n",
      "Initial weights = [1.  0.5] \n",
      "\n",
      "Iteration #0: W_new = [1.  0.5], MSE = 3047.75\n",
      "Iteration #50: W_new = [40.98318343  4.55221259], MSE = 51.81\n",
      "Iteration #100: W_new = [44.66702658  3.88421301], MSE = 44.04\n",
      "Iteration #150: W_new = [45.02416042  3.81945229], MSE = 43.97\n",
      "Iteration #200: W_new = [45.05878313  3.813174  ], MSE = 43.97\n",
      "Alpha = 0.05, FINAL Iteration #213: W_new = [45.06047383  3.81286741], MSE = 43.97\n",
      "- - - - - - - - - - \n",
      "Number of objects = 10            \n",
      "Learning rate = 0.1            \n",
      "Initial weights = [1.  0.5] \n",
      "\n",
      "Iteration #0: W_new = [1.  0.5], MSE = 3047.75\n",
      "Iteration #50: W_new = [-1.86601441e+20 -1.02904498e+21], MSE = 1.918881834691881e+43\n",
      "Iteration #100: W_new = [-1.75478343e+40 -9.67704790e+40], MSE = 1.6969353581672306e+83\n",
      "Iteration #150: W_new = [-1.65018281e+60 -9.10021021e+60], MSE = 1.5006602062396016e+123\n",
      "Iteration #200: W_new = [-1.55181731e+80 -8.55775715e+80], MSE = 1.3270871184058186e+163\n",
      "Iteration #250: W_new = [-1.45931527e+100 -8.04763910e+100], MSE = 1.1735902721454996e+203\n",
      "Iteration #300: W_new = [-1.37232717e+120 -7.56792859e+120], MSE = 1.0378475593441614e+243\n",
      "Iteration #350: W_new = [-1.29052432e+140 -7.11681308e+140], MSE = 9.178054573232597e+282\n",
      "Iteration #400: W_new = [-1.21359765e+160 -6.69258804e+160], MSE = inf\n",
      "Iteration #450: W_new = [-1.14125649e+180 -6.29365057e+180], MSE = inf\n",
      "Iteration #500: W_new = [-1.07322751e+200 -5.91849330e+200], MSE = inf\n",
      "Iteration #550: W_new = [-1.00925365e+220 -5.56569872e+220], MSE = inf\n",
      "Iteration #600: W_new = [-9.49093202e+239 -5.23393383e+240], MSE = inf\n",
      "Iteration #650: W_new = [-8.92518848e+259 -4.92194505e+260], MSE = inf\n",
      "Iteration #700: W_new = [-8.39316827e+279 -4.62855357e+280], MSE = inf\n",
      "Iteration #750: W_new = [-7.89286116e+299 -4.35265082e+300], MSE = inf\n",
      "Alpha = 0.1, FINAL Iteration #766: W_new = [nan nan], MSE = nan\n",
      "\n",
      "\n",
      "Alpha to check: [0.001, 0.005, 0.01, 0.02, 0.05, 0.1]\n",
      "Number of iterations: [6540, 1659, 904, 488, 213, 766]\n",
      "\n",
      "\n",
      " Best iteration number = 213, best alpha = 0.05\n"
     ]
    },
    {
     "name": "stderr",
     "output_type": "stream",
     "text": [
      "C:\\Users\\LMAXL\\Anaconda3\\lib\\site-packages\\ipykernel_launcher.py:6: RuntimeWarning: overflow encountered in square\n",
      "  \n"
     ]
    }
   ],
   "source": [
    "n = X.shape[1]\n",
    "# alpha = 1e-2\n",
    "# W = np.array([1, 0.5])\n",
    "\n",
    "eps = 0.0001 # Порог изменения ошибки за итерацию для остановки алгоритма\n",
    "iter_calc = []\n",
    "alpha_choice = [1e-3, 5e-3, 1e-2, 2e-2, 5e-2, 1e-1] # варианты альфа для выбора\n",
    "\n",
    "# максимальное число итераций\n",
    "max_iter = 1e4\n",
    "\n",
    "\n",
    "for alpha in alpha_choice:\n",
    "    itersum = 0\n",
    "    W = np.array([1.0, 0.5])\n",
    "    new_W = np.array([0.0, 0.0])\n",
    "\n",
    "    # зададим начальную разницу весов большим числом\n",
    "    weight_dist = np.inf\n",
    "\n",
    "    print('- ' *10)\n",
    "    print(f'Number of objects = {n} \\\n",
    "           \\nLearning rate = {alpha} \\\n",
    "           \\nInitial weights = {W} \\n')\n",
    "\n",
    "    # ход градиентного спуска\n",
    "    while weight_dist > eps and itersum < max_iter:\n",
    "\n",
    "        #    for i in range(100):\n",
    "        y_pred = np.dot(W, X)\n",
    "        err = calc_mse(y, y_pred)\n",
    "        for k in range(W.shape[0]):\n",
    "\n",
    "            new_W[k] = W[k] - alpha * ( 1 /n * 2 * np.sum(X[k] * (y_pred - y)))\n",
    "        if itersum % 50 == 0:\n",
    "            print(f'Iteration #{itersum}: W_new = {W}, MSE = {round(err,2)}')\n",
    "        weight_dist = np.linalg.norm(new_W - W, ord=2)\n",
    "\n",
    "        itersum += 1\n",
    "        W = new_W.copy()\n",
    "    iter_calc.append(itersum)\n",
    "    print(f'Alpha = {alpha}, FINAL Iteration #{itersum}: W_new = {W}, MSE = {round(err,2)}')\n",
    "print(f'\\n\\nAlpha to check: {alpha_choice}')\n",
    "print(f'Number of iterations: {iter_calc}')\n",
    "print(f'\\n\\n Best iteration number = {min(iter_calc)}, best alpha = {alpha_choice[iter_calc.index(min(iter_calc))]}')"
   ]
  },
  {
   "cell_type": "markdown",
   "metadata": {
    "colab_type": "text",
    "id": "5Qu1o4JhZYwI"
   },
   "source": [
    "*2. В этом коде мы избавляемся от итераций по весам, но тут есть ошибка, исправьте ее"
   ]
  },
  {
   "cell_type": "code",
   "execution_count": 23,
   "metadata": {
    "colab": {
     "base_uri": "https://localhost:8080/",
     "height": 185
    },
    "colab_type": "code",
    "id": "WZZzDCQLY4pA",
    "outputId": "28f58ade-72f2-4381-809d-2417752d56e4"
   },
   "outputs": [
    {
     "name": "stdout",
     "output_type": "stream",
     "text": [
      "Number of objects = 10        \n",
      "Learning rate = 0.01        \n",
      "Initial weights = [1.  0.5] \n",
      "\n",
      "Iteration #0: W_new = [2.08 4.27], MSE = 3047.75\n",
      "Iteration #100: W_new = [28.38281518  6.83710367], MSE = 177.43\n",
      "Iteration #200: W_new = [38.38986469  5.02247953], MSE = 65.33\n",
      "Iteration #300: W_new = [42.39314129  4.29654705], MSE = 47.39\n",
      "Iteration #400: W_new = [43.99463466  4.00614091], MSE = 44.52\n",
      "Iteration #500: W_new = [44.63530512  3.8899652 ], MSE = 44.06\n",
      "Iteration #600: W_new = [44.89160255  3.84348962], MSE = 43.98\n",
      "Iteration #700: W_new = [44.99413322  3.82489726], MSE = 43.97\n",
      "Iteration #800: W_new = [45.03515017  3.81745947], MSE = 43.97\n",
      "Iteration #900: W_new = [45.05155882  3.81448401], MSE = 43.97\n",
      "Iteration #1000: W_new = [45.05812303  3.8132937 ], MSE = 43.97\n"
     ]
    }
   ],
   "source": [
    "n = X.shape[1]\n",
    "alpha = 1e-2\n",
    "W = np.array([1, 0.5])\n",
    "print(f'Number of objects = {n} \\\n",
    "       \\nLearning rate = {alpha} \\\n",
    "       \\nInitial weights = {W} \\n')\n",
    "\n",
    "for i in range(1001):\n",
    "    y_pred = np.dot(W, X)\n",
    "    err = calc_mse(y, y_pred)\n",
    "#     for k in range(W.shape[0]):\n",
    "#         W[k] -= alpha * (1/n * 2 * np.sum(X[k] * (y_pred - y)))\n",
    "#     W -= alpha * (1/n * 2 * np.sum (X * (y_pred - y)))\n",
    "    W -= alpha * (1/n * 2 * np.dot (X, (y_pred - y).T))\n",
    "    if i % 100 == 0:\n",
    "        print(f'Iteration #{i}: W_new = {W}, MSE = {round(err,2)}')"
   ]
  },
  {
   "cell_type": "code",
   "execution_count": null,
   "metadata": {
    "colab": {},
    "colab_type": "code",
    "collapsed": true,
    "id": "kGLyytFgHdco"
   },
   "outputs": [],
   "source": []
  }
 ],
 "metadata": {
  "colab": {
   "collapsed_sections": [],
   "name": "Lesson1.ipynb",
   "provenance": []
  },
  "kernelspec": {
   "display_name": "Python 3",
   "language": "python",
   "name": "python3"
  },
  "language_info": {
   "codemirror_mode": {
    "name": "ipython",
    "version": 3
   },
   "file_extension": ".py",
   "mimetype": "text/x-python",
   "name": "python",
   "nbconvert_exporter": "python",
   "pygments_lexer": "ipython3",
   "version": "3.7.1"
  }
 },
 "nbformat": 4,
 "nbformat_minor": 1
}
