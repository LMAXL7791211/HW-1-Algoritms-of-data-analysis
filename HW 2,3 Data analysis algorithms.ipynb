{
 "cells": [
  {
   "cell_type": "markdown",
   "metadata": {},
   "source": [
    "Успел сделать только урок 2, 3й доделаю позже"
   ]
  },
  {
   "cell_type": "markdown",
   "metadata": {},
   "source": [
    "### По уроку 2:\n",
    "\n",
    "1. Постройте график зависимости весов всех признаков от lambda в L2-регуляризации (на данных из урока).\n"
   ]
  },
  {
   "cell_type": "code",
   "execution_count": 1,
   "metadata": {
    "colab": {},
    "colab_type": "code",
    "id": "_u5bV-OlT34p"
   },
   "outputs": [],
   "source": [
    "import numpy as np\n",
    "import matplotlib.pyplot as plt"
   ]
  },
  {
   "cell_type": "code",
   "execution_count": 2,
   "metadata": {},
   "outputs": [],
   "source": [
    "X_st = np.array([[ 1.        ,  1.        ,  1.        ,  1.        ,  1.        ,\n",
    "         1.        ,  1.        ,  1.        ,  1.        ,  1.        ],\n",
    "       [-0.70710678, -0.70710678, -0.35355339,  0.70710678,  0.        ,\n",
    "        -1.06066017,  0.70710678,  2.47487373, -0.70710678, -0.35355339],\n",
    "       [-0.97958969, -0.56713087, -0.46401617, -0.77336028,  0.97958969,\n",
    "        -0.36090146,  1.08270439,  2.11385144, -1.08270439,  0.05155735],\n",
    "       [-0.89625816, -0.89625816,  0.38411064, -0.89625816,  0.38411064,\n",
    "        -0.89625816,  1.66447944,  1.66447944, -0.89625816,  0.38411064]])"
   ]
  },
  {
   "cell_type": "code",
   "execution_count": 3,
   "metadata": {
    "colab": {},
    "colab_type": "code",
    "id": "x8yoci01ni-t"
   },
   "outputs": [],
   "source": [
    "y = [45, 55, 50, 55, 60, 35, 75, 80, 50, 60]"
   ]
  },
  {
   "cell_type": "code",
   "execution_count": 4,
   "metadata": {
    "colab": {},
    "colab_type": "code",
    "id": "VDpN7UxYnrcS"
   },
   "outputs": [],
   "source": [
    "def calc_mse(y, y_pred):\n",
    "    err = np.mean((y - y_pred)**2)\n",
    "    return err"
   ]
  },
  {
   "cell_type": "code",
   "execution_count": 5,
   "metadata": {
    "colab": {},
    "colab_type": "code",
    "id": "7AVoe1Mswjni"
   },
   "outputs": [],
   "source": [
    "def eval_model_reg2(X, y, iterations, alpha=1e-4, lambda_=1e-8):\n",
    "    np.random.seed(42)\n",
    "    W = np.random.randn(X.shape[0])\n",
    "    n = X.shape[1]\n",
    "    for i in range(1, iterations+1):\n",
    "        y_pred = np.dot(W, X)\n",
    "        err = calc_mse(y, y_pred)\n",
    "        W -= alpha * (1/n * 2 * np.dot((y_pred - y), X.T) + lambda_ * W) \n",
    "#         if i % (iterations / 10) == 0:\n",
    "    print(i, W, err)\n",
    "    return W"
   ]
  },
  {
   "cell_type": "code",
   "execution_count": 6,
   "metadata": {},
   "outputs": [
    {
     "data": {
      "text/plain": [
       "array([0.001     , 0.01109091, 0.02118182, 0.03127273, 0.04136364,\n",
       "       0.05145455, 0.06154545, 0.07163636, 0.08172727, 0.09181818,\n",
       "       0.10190909, 0.112     , 0.12209091, 0.13218182, 0.14227273,\n",
       "       0.15236364, 0.16245455, 0.17254545, 0.18263636, 0.19272727,\n",
       "       0.20281818, 0.21290909, 0.223     , 0.23309091, 0.24318182,\n",
       "       0.25327273, 0.26336364, 0.27345455, 0.28354545, 0.29363636,\n",
       "       0.30372727, 0.31381818, 0.32390909, 0.334     , 0.34409091,\n",
       "       0.35418182, 0.36427273, 0.37436364, 0.38445455, 0.39454545,\n",
       "       0.40463636, 0.41472727, 0.42481818, 0.43490909, 0.445     ,\n",
       "       0.45509091, 0.46518182, 0.47527273, 0.48536364, 0.49545455,\n",
       "       0.50554545, 0.51563636, 0.52572727, 0.53581818, 0.54590909,\n",
       "       0.556     , 0.56609091, 0.57618182, 0.58627273, 0.59636364,\n",
       "       0.60645455, 0.61654545, 0.62663636, 0.63672727, 0.64681818,\n",
       "       0.65690909, 0.667     , 0.67709091, 0.68718182, 0.69727273,\n",
       "       0.70736364, 0.71745455, 0.72754545, 0.73763636, 0.74772727,\n",
       "       0.75781818, 0.76790909, 0.778     , 0.78809091, 0.79818182,\n",
       "       0.80827273, 0.81836364, 0.82845455, 0.83854545, 0.84863636,\n",
       "       0.85872727, 0.86881818, 0.87890909, 0.889     , 0.89909091,\n",
       "       0.90918182, 0.91927273, 0.92936364, 0.93945455, 0.94954545,\n",
       "       0.95963636, 0.96972727, 0.97981818, 0.98990909, 1.        ])"
      ]
     },
     "execution_count": 6,
     "metadata": {},
     "output_type": "execute_result"
    }
   ],
   "source": [
    "lambda_lst = np.linspace(1e-3, 1, 100)\n",
    "lambda_lst"
   ]
  },
  {
   "cell_type": "code",
   "execution_count": 7,
   "metadata": {},
   "outputs": [],
   "source": [
    "weights = np.empty((0,4), float)"
   ]
  },
  {
   "cell_type": "code",
   "execution_count": 8,
   "metadata": {},
   "outputs": [
    {
     "name": "stdout",
     "output_type": "stream",
     "text": [
      "5000 [56.47176412  6.29561266 -0.33623814  6.55564817] 24.905495425008887\n",
      "5000 [56.18840973  6.22305394 -0.1448165   6.40537417] 25.01054243342223\n",
      "5000 [5.59078847e+01 6.15490621e+00 2.92278682e-02 6.26876136e+00] 25.284860856068427\n",
      "5000 [55.6301468   6.09067381  0.18810524  6.14402093] 25.72096040925331\n",
      "5000 [55.35515475  6.02993791  0.33366651  6.02965838] 26.312161936576132\n",
      "5000 [55.08286803  5.97234187  0.46747302  5.92441614] 27.052419958733964\n",
      "5000 [54.8132469   5.91757985  0.59085079  5.8272289 ] 27.93619345156385\n",
      "5000 [54.54625241  5.86538777  0.70493321  5.7371886 ] 28.95835047866034\n",
      "5000 [54.28184637  5.81553623  0.81069468  5.65351669] 30.114096886651204\n",
      "5000 [54.01999131  5.76782479  0.90897762  5.57554208] 31.39892230697854\n",
      "5000 [53.76065049  5.72207739  1.00051406  5.50268335] 32.80855874582771\n",
      "5000 [53.50378788  5.67813855  1.08594319  5.43443438] 34.338948428898725\n",
      "5000 [53.24936812  5.63587039  1.16582563  5.37035268] 35.986218520373534\n",
      "5000 [52.99735653  5.59515006  1.24065521  5.31004976] 37.74666099816081\n",
      "5000 [52.74771907  5.55586766  1.31086863  5.25318319] 39.61671643353897\n",
      "5000 [52.50042237  5.51792449  1.37685352  5.19945008] 41.592960754420766\n",
      "5000 [52.25543364  5.48123162  1.43895516  5.14858156] 43.67209430900289\n",
      "5000 [52.01272073  5.44570861  1.49748214  5.10033817] 45.85093271856183\n",
      "5000 [51.77225207  5.4112825   1.55271111  5.05450603] 48.126399133793136\n",
      "5000 [51.53399668  5.37788688  1.60489086  5.01089348] 50.49551760163138\n",
      "5000 [51.29792415  5.34546118  1.65424569  4.96932837] 52.95540731818473\n",
      "5000 [51.0640046   5.31394997  1.70097841  4.92965563] 55.503277594807926\n",
      "5000 [50.83220873  5.28330241  1.74527288  4.8917352 ] 58.13642340304126\n",
      "5000 [50.60250773  5.25347175  1.78729611  4.85544036] 60.85222139350797\n",
      "5000 [50.37487335  5.2244149   1.82720023  4.8206561 ] 63.64812630627074\n",
      "5000 [50.14927782  5.19609211  1.86512408  4.78727788] 66.5216677073625\n",
      "5000 [49.92569386  5.16846654  1.90119465  4.75521047] 69.47044699950897\n",
      "5000 [49.70409469  5.14150407  1.9355283   4.72436693] 72.49213466539425\n",
      "5000 [49.484454    5.11517299  1.96823188  4.69466774] 75.58446770989595\n",
      "5000 [49.26674594  5.08944381  1.99940368  4.66604006] 78.74524727406084\n",
      "5000 [49.05094511  5.06428902  2.02913427  4.63841702] 81.97233639859544\n",
      "5000 [48.83702656  5.03968296  2.05750724  4.61173715] 85.26365791862385\n",
      "5000 [48.62496577  5.01560162  2.08459988  4.58594387] 88.61719247463041\n",
      "5000 [48.41473864  4.99202253  2.11048376  4.56098497] 92.03097662704059\n",
      "5000 [48.2063215   4.96892461  2.13522523  4.53681223] 95.50310106394122\n",
      "5000 [47.99969107  4.94628809  2.15888591  4.51338107] 99.0317088930886\n",
      "5000 [47.79482447  4.92409436  2.18152312  4.49065019] 102.61499401069648\n",
      "5000 [47.59169921  4.90232591  2.20319021  4.46858129] 106.25119954059171\n",
      "5000 [47.39029319  4.88096624  2.22393693  4.44713879] 109.93861633822385\n",
      "5000 [47.19058466  4.8599998   2.24380973  4.42628963] 113.67558155475203\n",
      "5000 [46.99255226  4.83941187  2.26285201  4.40600302] 117.46047725705098\n",
      "5000 [46.79617498  4.81918855  2.28110438  4.38625027] 121.29172909997824\n",
      "5000 [46.60143216  4.7993167   2.29860489  4.36700462] 125.16780504768167\n",
      "5000 [46.40830346  4.77978385  2.3153892   4.34824105] 129.08721414107276\n",
      "5000 [46.21676891  4.76057819  2.33149081  4.32993618] 133.04850530890215\n",
      "5000 [46.02680886  4.7416885   2.34694118  4.31206815] 137.05026622012377\n",
      "5000 [45.83840395  4.72310412  2.3617699   4.29461644] 141.09112217545604\n",
      "5000 [45.65153518  4.70481494  2.37600483  4.27756183] 145.1697350362346\n",
      "5000 [45.46618384  4.68681131  2.38967222  4.26088628] 149.28480218881245\n",
      "5000 [45.28233151  4.66908407  2.40279684  4.24457282] 153.43505554290385\n",
      "5000 [45.09996009  4.65162446  2.41540205  4.22860551] 157.61926056238983\n",
      "5000 [44.91905175  4.63442415  2.42750994  4.21296934] 161.83621532721207\n",
      "5000 [44.73958896  4.61747519  2.43914137  4.19765018] 166.08474962507265\n",
      "5000 [44.56155445  4.60076998  2.4503161   4.1826347 ] 170.36372407174375\n",
      "5000 [44.38493126  4.58430125  2.46105284  4.16791033] 174.67202925886568\n",
      "5000 [44.20970266  4.56806206  2.47136931  4.15346519] 179.00858492817605\n",
      "5000 [44.0358522   4.55204577  2.48128232  4.13928806] 183.37233917117527\n",
      "5000 [43.86336368  4.53624601  2.49080782  4.12536834] 187.7622676532861\n",
      "5000 [43.69222117  4.52065671  2.49996095  4.11169598] 192.1773728616162\n",
      "5000 [43.52240896  4.505272    2.50875612  4.09826149] 196.61668337547633\n",
      "5000 [43.35391162  4.4900863   2.51720701  4.08505584] 201.07925315884734\n",
      "5000 [43.18671392  4.47509423  2.52532663  4.0720705 ] 205.5641608740315\n",
      "5000 [43.02080088  4.46029062  2.5331274   4.05929736] 210.07050921575092\n",
      "5000 [42.85615777  4.44567053  2.54062112  4.04672873] 214.5974242649992\n",
      "5000 [42.69277005  4.43122917  2.54781905  4.03435729] 219.14405486197103\n",
      "5000 [42.53062342  4.41696198  2.55473192  4.02217609] 223.70957199743603\n",
      "5000 [42.36970379  4.40286455  2.56136998  4.01017852] 228.29316822193363\n",
      "5000 [42.20999728  4.38893263  2.56774302  3.99835828] 232.89405707220877\n",
      "5000 [42.05149024  4.37516214  2.57386037  3.98670939] 237.5114725143174\n",
      "5000 [41.89416919  4.36154914  2.57973097  3.97522613] 242.14466840285863\n",
      "5000 [41.73802088  4.34808984  2.58536335  3.96390305] 246.79291795581338\n",
      "5000 [41.58303225  4.33478059  2.59076569  3.95273497] 251.45551324448599\n",
      "5000 [41.42919041  4.32161786  2.5959458   3.94171692] 256.1317646980636\n",
      "5000 [41.2764827   4.30859824  2.60091118  3.93084418] 260.8210006223311\n",
      "5000 [41.12489661  4.29571845  2.60566899  3.92011222] 265.52256673208825\n",
      "5000 [40.97441983  4.28297532  2.61022611  3.90951672] 270.23582569684186\n",
      "5000 [40.82504023  4.27036577  2.61458914  3.89905354] 274.96015669935315\n",
      "5000 [40.67674586  4.25788686  2.61876439  3.88871873] 279.6949550066387\n",
      "5000 [40.52952493  4.24553571  2.62275794  3.87850851] 284.4396315530378\n",
      "5000 [40.38336582  4.23330956  2.62657561  3.86841925] 289.19361253497357\n",
      "5000 [40.2382571   4.22120572  2.630223    3.85844747] 293.9563390170439\n",
      "5000 [40.09418747  4.20922161  2.63370549  3.84858985] 298.7272665490953\n",
      "5000 [39.95114582  4.1973547   2.63702825  3.8388432 ] 303.5058647939444\n",
      "5000 [39.80912119  4.18560258  2.64019624  3.82920444] 308.29161716541785\n",
      "5000 [39.66810276  4.17396288  2.64321425  3.81967065] 313.0840204764028\n",
      "5000 [39.52807988  4.16243332  2.64608687  3.810239  ] 317.8825845965981\n",
      "5000 [39.38904205  4.15101169  2.64881853  3.80090677] 322.6868321196771\n",
      "5000 [39.2509789   4.13969585  2.6514135   3.79167136] 327.49629803957663\n",
      "5000 [39.11388023  4.1284837   2.65387589  3.78253027] 332.3105294356409\n",
      "5000 [38.97773597  4.11737325  2.65620964  3.77348109] 337.129085166349\n",
      "5000 [38.84253617  4.10636251  2.65841858  3.76452149] 341.9515355713799\n",
      "5000 [38.70827105  4.0954496   2.66050639  3.75564926] 346.7774621817558\n",
      "5000 [38.57493095  4.08463266  2.6624766   3.74686224] 351.6064574378328\n",
      "5000 [38.44250634  4.0739099   2.66433264  3.73815836] 356.43812441490326\n",
      "5000 [38.31098782  4.06327958  2.66607782  3.72953563] 361.27207655618525\n",
      "5000 [38.18036614  4.05274001  2.66771532  3.72099213] 366.1079374129829\n",
      "5000 [38.05063213  4.04228953  2.66924822  3.71252601] 370.9453403918086\n",
      "5000 [37.9217768   4.03192655  2.67067949  3.70413549] 375.78392850825946\n",
      "5000 [37.79379124  4.02164951  2.67201201  3.69581883] 380.62335414745814\n",
      "5000 [37.66666666  4.01145689  2.67324855  3.68757437] 385.4632788308589\n"
     ]
    },
    {
     "data": {
      "text/plain": [
       "array([[ 5.64717641e+01,  6.29561266e+00, -3.36238135e-01,\n",
       "         6.55564817e+00],\n",
       "       [ 5.61884097e+01,  6.22305394e+00, -1.44816501e-01,\n",
       "         6.40537417e+00],\n",
       "       [ 5.59078847e+01,  6.15490621e+00,  2.92278682e-02,\n",
       "         6.26876136e+00],\n",
       "       [ 5.56301468e+01,  6.09067381e+00,  1.88105235e-01,\n",
       "         6.14402093e+00],\n",
       "       [ 5.53551548e+01,  6.02993791e+00,  3.33666509e-01,\n",
       "         6.02965838e+00],\n",
       "       [ 5.50828680e+01,  5.97234187e+00,  4.67473015e-01,\n",
       "         5.92441614e+00],\n",
       "       [ 5.48132469e+01,  5.91757985e+00,  5.90850793e-01,\n",
       "         5.82722890e+00],\n",
       "       [ 5.45462524e+01,  5.86538777e+00,  7.04933206e-01,\n",
       "         5.73718860e+00],\n",
       "       [ 5.42818464e+01,  5.81553623e+00,  8.10694680e-01,\n",
       "         5.65351669e+00],\n",
       "       [ 5.40199913e+01,  5.76782479e+00,  9.08977622e-01,\n",
       "         5.57554208e+00],\n",
       "       [ 5.37606505e+01,  5.72207739e+00,  1.00051406e+00,\n",
       "         5.50268335e+00],\n",
       "       [ 5.35037879e+01,  5.67813855e+00,  1.08594319e+00,\n",
       "         5.43443438e+00],\n",
       "       [ 5.32493681e+01,  5.63587039e+00,  1.16582563e+00,\n",
       "         5.37035268e+00],\n",
       "       [ 5.29973565e+01,  5.59515006e+00,  1.24065521e+00,\n",
       "         5.31004976e+00],\n",
       "       [ 5.27477191e+01,  5.55586766e+00,  1.31086863e+00,\n",
       "         5.25318319e+00],\n",
       "       [ 5.25004224e+01,  5.51792449e+00,  1.37685352e+00,\n",
       "         5.19945008e+00],\n",
       "       [ 5.22554336e+01,  5.48123162e+00,  1.43895516e+00,\n",
       "         5.14858156e+00],\n",
       "       [ 5.20127207e+01,  5.44570861e+00,  1.49748214e+00,\n",
       "         5.10033817e+00],\n",
       "       [ 5.17722521e+01,  5.41128250e+00,  1.55271111e+00,\n",
       "         5.05450603e+00],\n",
       "       [ 5.15339967e+01,  5.37788688e+00,  1.60489086e+00,\n",
       "         5.01089348e+00],\n",
       "       [ 5.12979241e+01,  5.34546118e+00,  1.65424569e+00,\n",
       "         4.96932837e+00],\n",
       "       [ 5.10640046e+01,  5.31394997e+00,  1.70097841e+00,\n",
       "         4.92965563e+00],\n",
       "       [ 5.08322087e+01,  5.28330241e+00,  1.74527288e+00,\n",
       "         4.89173520e+00],\n",
       "       [ 5.06025077e+01,  5.25347175e+00,  1.78729611e+00,\n",
       "         4.85544036e+00],\n",
       "       [ 5.03748734e+01,  5.22441490e+00,  1.82720023e+00,\n",
       "         4.82065610e+00],\n",
       "       [ 5.01492778e+01,  5.19609211e+00,  1.86512408e+00,\n",
       "         4.78727788e+00],\n",
       "       [ 4.99256939e+01,  5.16846654e+00,  1.90119465e+00,\n",
       "         4.75521047e+00],\n",
       "       [ 4.97040947e+01,  5.14150407e+00,  1.93552830e+00,\n",
       "         4.72436693e+00],\n",
       "       [ 4.94844540e+01,  5.11517299e+00,  1.96823188e+00,\n",
       "         4.69466774e+00],\n",
       "       [ 4.92667459e+01,  5.08944381e+00,  1.99940368e+00,\n",
       "         4.66604006e+00],\n",
       "       [ 4.90509451e+01,  5.06428902e+00,  2.02913427e+00,\n",
       "         4.63841702e+00],\n",
       "       [ 4.88370266e+01,  5.03968296e+00,  2.05750724e+00,\n",
       "         4.61173715e+00],\n",
       "       [ 4.86249658e+01,  5.01560162e+00,  2.08459988e+00,\n",
       "         4.58594387e+00],\n",
       "       [ 4.84147386e+01,  4.99202253e+00,  2.11048376e+00,\n",
       "         4.56098497e+00],\n",
       "       [ 4.82063215e+01,  4.96892461e+00,  2.13522523e+00,\n",
       "         4.53681223e+00],\n",
       "       [ 4.79996911e+01,  4.94628809e+00,  2.15888591e+00,\n",
       "         4.51338107e+00],\n",
       "       [ 4.77948245e+01,  4.92409436e+00,  2.18152312e+00,\n",
       "         4.49065019e+00],\n",
       "       [ 4.75916992e+01,  4.90232591e+00,  2.20319021e+00,\n",
       "         4.46858129e+00],\n",
       "       [ 4.73902932e+01,  4.88096624e+00,  2.22393693e+00,\n",
       "         4.44713879e+00],\n",
       "       [ 4.71905847e+01,  4.85999980e+00,  2.24380973e+00,\n",
       "         4.42628963e+00],\n",
       "       [ 4.69925523e+01,  4.83941187e+00,  2.26285201e+00,\n",
       "         4.40600302e+00],\n",
       "       [ 4.67961750e+01,  4.81918855e+00,  2.28110438e+00,\n",
       "         4.38625027e+00],\n",
       "       [ 4.66014322e+01,  4.79931670e+00,  2.29860489e+00,\n",
       "         4.36700462e+00],\n",
       "       [ 4.64083035e+01,  4.77978385e+00,  2.31538920e+00,\n",
       "         4.34824105e+00],\n",
       "       [ 4.62167689e+01,  4.76057819e+00,  2.33149081e+00,\n",
       "         4.32993618e+00],\n",
       "       [ 4.60268089e+01,  4.74168850e+00,  2.34694118e+00,\n",
       "         4.31206815e+00],\n",
       "       [ 4.58384040e+01,  4.72310412e+00,  2.36176990e+00,\n",
       "         4.29461644e+00],\n",
       "       [ 4.56515352e+01,  4.70481494e+00,  2.37600483e+00,\n",
       "         4.27756183e+00],\n",
       "       [ 4.54661838e+01,  4.68681131e+00,  2.38967222e+00,\n",
       "         4.26088628e+00],\n",
       "       [ 4.52823315e+01,  4.66908407e+00,  2.40279684e+00,\n",
       "         4.24457282e+00],\n",
       "       [ 4.50999601e+01,  4.65162446e+00,  2.41540205e+00,\n",
       "         4.22860551e+00],\n",
       "       [ 4.49190517e+01,  4.63442415e+00,  2.42750994e+00,\n",
       "         4.21296934e+00],\n",
       "       [ 4.47395890e+01,  4.61747519e+00,  2.43914137e+00,\n",
       "         4.19765018e+00],\n",
       "       [ 4.45615545e+01,  4.60076998e+00,  2.45031610e+00,\n",
       "         4.18263470e+00],\n",
       "       [ 4.43849313e+01,  4.58430125e+00,  2.46105284e+00,\n",
       "         4.16791033e+00],\n",
       "       [ 4.42097027e+01,  4.56806206e+00,  2.47136931e+00,\n",
       "         4.15346519e+00],\n",
       "       [ 4.40358522e+01,  4.55204577e+00,  2.48128232e+00,\n",
       "         4.13928806e+00],\n",
       "       [ 4.38633637e+01,  4.53624601e+00,  2.49080782e+00,\n",
       "         4.12536834e+00],\n",
       "       [ 4.36922212e+01,  4.52065671e+00,  2.49996095e+00,\n",
       "         4.11169598e+00],\n",
       "       [ 4.35224090e+01,  4.50527200e+00,  2.50875612e+00,\n",
       "         4.09826149e+00],\n",
       "       [ 4.33539116e+01,  4.49008630e+00,  2.51720701e+00,\n",
       "         4.08505584e+00],\n",
       "       [ 4.31867139e+01,  4.47509423e+00,  2.52532663e+00,\n",
       "         4.07207050e+00],\n",
       "       [ 4.30208009e+01,  4.46029062e+00,  2.53312740e+00,\n",
       "         4.05929736e+00],\n",
       "       [ 4.28561578e+01,  4.44567053e+00,  2.54062112e+00,\n",
       "         4.04672873e+00],\n",
       "       [ 4.26927700e+01,  4.43122917e+00,  2.54781905e+00,\n",
       "         4.03435729e+00],\n",
       "       [ 4.25306234e+01,  4.41696198e+00,  2.55473192e+00,\n",
       "         4.02217609e+00],\n",
       "       [ 4.23697038e+01,  4.40286455e+00,  2.56136998e+00,\n",
       "         4.01017852e+00],\n",
       "       [ 4.22099973e+01,  4.38893263e+00,  2.56774302e+00,\n",
       "         3.99835828e+00],\n",
       "       [ 4.20514902e+01,  4.37516214e+00,  2.57386037e+00,\n",
       "         3.98670939e+00],\n",
       "       [ 4.18941692e+01,  4.36154914e+00,  2.57973097e+00,\n",
       "         3.97522613e+00],\n",
       "       [ 4.17380209e+01,  4.34808984e+00,  2.58536335e+00,\n",
       "         3.96390305e+00],\n",
       "       [ 4.15830322e+01,  4.33478059e+00,  2.59076569e+00,\n",
       "         3.95273497e+00],\n",
       "       [ 4.14291904e+01,  4.32161786e+00,  2.59594580e+00,\n",
       "         3.94171692e+00],\n",
       "       [ 4.12764827e+01,  4.30859824e+00,  2.60091118e+00,\n",
       "         3.93084418e+00],\n",
       "       [ 4.11248966e+01,  4.29571845e+00,  2.60566899e+00,\n",
       "         3.92011222e+00],\n",
       "       [ 4.09744198e+01,  4.28297532e+00,  2.61022611e+00,\n",
       "         3.90951672e+00],\n",
       "       [ 4.08250402e+01,  4.27036577e+00,  2.61458914e+00,\n",
       "         3.89905354e+00],\n",
       "       [ 4.06767459e+01,  4.25788686e+00,  2.61876439e+00,\n",
       "         3.88871873e+00],\n",
       "       [ 4.05295249e+01,  4.24553571e+00,  2.62275794e+00,\n",
       "         3.87850851e+00],\n",
       "       [ 4.03833658e+01,  4.23330956e+00,  2.62657561e+00,\n",
       "         3.86841925e+00],\n",
       "       [ 4.02382571e+01,  4.22120572e+00,  2.63022300e+00,\n",
       "         3.85844747e+00],\n",
       "       [ 4.00941875e+01,  4.20922161e+00,  2.63370549e+00,\n",
       "         3.84858985e+00],\n",
       "       [ 3.99511458e+01,  4.19735470e+00,  2.63702825e+00,\n",
       "         3.83884320e+00],\n",
       "       [ 3.98091212e+01,  4.18560258e+00,  2.64019624e+00,\n",
       "         3.82920444e+00],\n",
       "       [ 3.96681028e+01,  4.17396288e+00,  2.64321425e+00,\n",
       "         3.81967065e+00],\n",
       "       [ 3.95280799e+01,  4.16243332e+00,  2.64608687e+00,\n",
       "         3.81023900e+00],\n",
       "       [ 3.93890420e+01,  4.15101169e+00,  2.64881853e+00,\n",
       "         3.80090677e+00],\n",
       "       [ 3.92509789e+01,  4.13969585e+00,  2.65141350e+00,\n",
       "         3.79167136e+00],\n",
       "       [ 3.91138802e+01,  4.12848370e+00,  2.65387589e+00,\n",
       "         3.78253027e+00],\n",
       "       [ 3.89777360e+01,  4.11737325e+00,  2.65620964e+00,\n",
       "         3.77348109e+00],\n",
       "       [ 3.88425362e+01,  4.10636251e+00,  2.65841858e+00,\n",
       "         3.76452149e+00],\n",
       "       [ 3.87082710e+01,  4.09544960e+00,  2.66050639e+00,\n",
       "         3.75564926e+00],\n",
       "       [ 3.85749309e+01,  4.08463266e+00,  2.66247660e+00,\n",
       "         3.74686224e+00],\n",
       "       [ 3.84425063e+01,  4.07390990e+00,  2.66433264e+00,\n",
       "         3.73815836e+00],\n",
       "       [ 3.83109878e+01,  4.06327958e+00,  2.66607782e+00,\n",
       "         3.72953563e+00],\n",
       "       [ 3.81803661e+01,  4.05274001e+00,  2.66771532e+00,\n",
       "         3.72099213e+00],\n",
       "       [ 3.80506321e+01,  4.04228953e+00,  2.66924822e+00,\n",
       "         3.71252601e+00],\n",
       "       [ 3.79217768e+01,  4.03192655e+00,  2.67067949e+00,\n",
       "         3.70413549e+00],\n",
       "       [ 3.77937912e+01,  4.02164951e+00,  2.67201201e+00,\n",
       "         3.69581883e+00],\n",
       "       [ 3.76666667e+01,  4.01145689e+00,  2.67324855e+00,\n",
       "         3.68757437e+00]])"
      ]
     },
     "execution_count": 8,
     "metadata": {},
     "output_type": "execute_result"
    }
   ],
   "source": [
    "for lmbd in lambda_lst:\n",
    "    weights = np.vstack((weights,\n",
    "                         eval_model_reg2(X_st, y, iterations=5000, alpha=1e-2, lambda_=lmbd)))\n",
    "    \n",
    "weights"
   ]
  },
  {
   "cell_type": "code",
   "execution_count": 9,
   "metadata": {},
   "outputs": [
    {
     "data": {
      "image/png": "[encoded data removed]",
      "text/plain": [
       "<Figure size 432x288 with 1 Axes>"
      ]
     },
     "metadata": {
      "needs_background": "light"
     },
     "output_type": "display_data"
    },
    {
     "data": {
      "image/png": "[encoded data removed]",
      "text/plain": [
       "<Figure size 432x288 with 1 Axes>"
      ]
     },
     "metadata": {
      "needs_background": "light"
     },
     "output_type": "display_data"
    },
    {
     "data": {
      "image/png": "[encoded data removed]",
      "text/plain": [
       "<Figure size 432x288 with 1 Axes>"
      ]
     },
     "metadata": {
      "needs_background": "light"
     },
     "output_type": "display_data"
    },
    {
     "data": {
      "image/png": "[encoded data removed]",
      "text/plain": [
       "<Figure size 432x288 with 1 Axes>"
      ]
     },
     "metadata": {
      "needs_background": "light"
     },
     "output_type": "display_data"
    }
   ],
   "source": [
    "for i in range(weights.shape[1]):\n",
    "    plt.title('Weights of lambda dependance')\n",
    "    plt.xlabel(r'$lambda$')\n",
    "    wght = 'weight ' + str(i+1)\n",
    "    plt.ylabel(wght)\n",
    "\n",
    "    plt.plot(lambda_lst, weights.T[i])\n",
    "    plt.show()"
   ]
  },
  {
   "cell_type": "code",
   "execution_count": null,
   "metadata": {},
   "outputs": [],
   "source": []
  },
  {
   "cell_type": "markdown",
   "metadata": {},
   "source": [
    "2. Можно ли к одному и тому же признаку применить сразу и нормализацию, и стандартизацию?"
   ]
  },
  {
   "cell_type": "markdown",
   "metadata": {},
   "source": [
    "Ответ: Это не имеет смысла, так как нормализацию правильно применять к одним типам данных (к неким измерениям, например, расстояния), а стандартизацию - к другим (например, к данным, распределенным нормально). \n",
    "\n",
    "    Также, у нормализации и стандартизации разный диапазон данных ([0,1] при нормализации, и 0 в центре для стандартизации)"
   ]
  },
  {
   "cell_type": "markdown",
   "metadata": {},
   "source": [
    "3*. Напишите функцию наподобие eval_model_reg2, но для применения L1-регуляризации."
   ]
  },
  {
   "cell_type": "code",
   "execution_count": 11,
   "metadata": {
    "colab": {},
    "colab_type": "code",
    "id": "7AVoe1Mswjni"
   },
   "outputs": [],
   "source": [
    "def eval_model_reg1(X, y, iterations, alpha=1e-4, lambda_=1e-8):\n",
    "    np.random.seed(42)\n",
    "    W = np.random.randn(X.shape[0])\n",
    "    n = X.shape[1]\n",
    "    for i in range(1, iterations+1):\n",
    "        y_pred = np.dot(W, X)\n",
    "        err = calc_mse(y, y_pred)\n",
    "        W -= alpha * (1/n * 2 * np.dot((y_pred - y), X.T) + lambda_ * np.sign(W)) \n",
    "        if i % (iterations / 10) == 0:\n",
    "            print(i, W, err)\n",
    "    return W"
   ]
  },
  {
   "cell_type": "code",
   "execution_count": 12,
   "metadata": {},
   "outputs": [
    {
     "name": "stdout",
     "output_type": "stream",
     "text": [
      "500 [56.49765252  5.89983017  1.03995035  5.52753399] 25.237230489255577\n",
      "1000 [56.49994991  6.19557481  0.1343797   6.1719267 ] 24.94686392349633\n",
      "1500 [56.49995     6.26619419 -0.18003167  6.42624591] 24.910108006035323\n",
      "2000 [56.49995     6.28977819 -0.29255957  6.51886362] 24.90533832675291\n",
      "2500 [56.49995     6.2981762  -0.3330345   6.55225796] 24.904715108353827\n",
      "3000 [56.49995     6.30119435 -0.34760165  6.5642809 ] 24.90463246662303\n",
      "3500 [56.49995     6.30228047 -0.3528449   6.56860861] 24.904621076227375\n",
      "4000 [56.49995     6.3026714  -0.35473216  6.57016634] 24.904619354488393\n",
      "4500 [56.49995     6.30281211 -0.35541146  6.57072703] 24.904619042869495\n",
      "5000 [56.49995     6.30286275 -0.35565597  6.57092884] 24.904618970622543\n"
     ]
    },
    {
     "data": {
      "text/plain": [
       "array([56.49995   ,  6.30286275, -0.35565597,  6.57092884])"
      ]
     },
     "execution_count": 12,
     "metadata": {},
     "output_type": "execute_result"
    }
   ],
   "source": [
    "eval_model_reg1(X_st, y, iterations=5000, alpha=1e-2, lambda_=1e-4)"
   ]
  },
  {
   "cell_type": "markdown",
   "metadata": {},
   "source": [
    "\n",
    "\n",
    "По уроку 3:\n",
    "1*. Измените функцию calc_logloss так, чтобы нули по возможности не попадали в np.log.\n",
    "\n",
    "2. Подберите аргументы функции eval_model для логистической регрессии таким образом, чтобы log loss был минимальным.\n",
    "3. Создайте функцию calc_pred_proba, возвращающую предсказанную вероятность класса 1 (на вход подаются W, который уже посчитан функцией eval_model и X, на выходе - массив y_pred_proba).\n",
    "4. Создайте функцию calc_pred, возвращающую предсказанный класс (на вход подаются W, который уже посчитан функцией eval_model и X, на выходе - массив y_pred).\n",
    "5. Посчитайте Accuracy, матрицу ошибок, точность и полноту, а также F1 score.\n",
    "6. Могла ли модель переобучиться? Почему?\n",
    "7*. Создайте функции eval_model_l1 и eval_model_l2 с применением L1 и L2 регуляризаций соответственно.2. Можно ли к одному и тому же признаку применить сразу и нормализацию, и стандартизацию?\n"
   ]
  },
  {
   "cell_type": "code",
   "execution_count": null,
   "metadata": {},
   "outputs": [],
   "source": []
  }
 ],
 "metadata": {
  "kernelspec": {
   "display_name": "Python 3",
   "language": "python",
   "name": "python3"
  },
  "language_info": {
   "codemirror_mode": {
    "name": "ipython",
    "version": 3
   },
   "file_extension": ".py",
   "mimetype": "text/x-python",
   "name": "python",
   "nbconvert_exporter": "python",
   "pygments_lexer": "ipython3",
   "version": "3.7.1"
  }
 },
 "nbformat": 4,
 "nbformat_minor": 2
}
